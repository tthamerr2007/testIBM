{
 "cells": [
  {
   "cell_type": "markdown",
   "id": "c54d3a7c",
   "metadata": {},
   "source": [
    "# My Jupyter Notebook on IBM Watson Studio"
   ]
  },
  {
   "cell_type": "markdown",
   "id": "854e9b61",
   "metadata": {},
   "source": [
    "**Thamer**"
   ]
  },
  {
   "cell_type": "markdown",
   "id": "a32246dd",
   "metadata": {},
   "source": [
    "engineer"
   ]
  },
  {
   "cell_type": "markdown",
   "id": "8c91c524",
   "metadata": {},
   "source": [
    "*I am interested in data science because I like working with data*"
   ]
  },
  {
   "cell_type": "markdown",
   "id": "a33af8e9",
   "metadata": {},
   "source": [
    "### adding two numbers ###"
   ]
  },
  {
   "cell_type": "code",
   "execution_count": 4,
   "id": "4e74f80e",
   "metadata": {},
   "outputs": [
    {
     "name": "stdout",
     "output_type": "stream",
     "text": [
      "2\n"
     ]
    }
   ],
   "source": [
    "print(1 + 1)"
   ]
  },
  {
   "cell_type": "markdown",
   "id": "8bdf24d3",
   "metadata": {},
   "source": [
    "___________________________________________________\n",
    "\n",
    "\n",
    "1 . banana\n",
    "\n",
    "2 . apple\n",
    "\n",
    "3 . pear\n",
    "\n",
    "4 . peach\n",
    "\n",
    "\n",
    " | | Sentence #  | Word    | POS   | Tag   |\n",
    "|---:|:-------------|:-----------|:------|:------|\n",
    "| 1 | Sentence: 1  | They       | PRP   | O     |\n",
    "| 2 | Sentence: 1  | marched    | VBD   | O     |\n",
    "\n",
    "\n",
    "https://google.com/"
   ]
  },
  {
   "cell_type": "code",
   "execution_count": null,
   "id": "5721a15f",
   "metadata": {},
   "outputs": [],
   "source": []
  }
 ],
 "metadata": {
  "kernelspec": {
   "display_name": "Python 3 (ipykernel)",
   "language": "python",
   "name": "python3"
  },
  "language_info": {
   "codemirror_mode": {
    "name": "ipython",
    "version": 3
   },
   "file_extension": ".py",
   "mimetype": "text/x-python",
   "name": "python",
   "nbconvert_exporter": "python",
   "pygments_lexer": "ipython3",
   "version": "3.9.12"
  }
 },
 "nbformat": 4,
 "nbformat_minor": 5
}
